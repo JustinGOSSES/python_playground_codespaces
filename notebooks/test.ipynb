{
 "cells": [
  {
   "attachments": {},
   "cell_type": "markdown",
   "metadata": {},
   "source": [
    "WE ARE COPYING FROM HERE: https://github.com/nir/jupylet/blob/master/examples/01-hello-world.ipynb\n",
    "\n",
    "-----------\n",
    "Hello, World!\n",
    "\n",
    "Let's start with a traditional first program called Hello, World!\n",
    "\n",
    "Here is how it looked like 45 years ago when it was written for the first time by Brian Kernighan for the C programming language:\n",
    "\n",
    "main( ) {\n",
    "        printf(\"hello, world\\n\");\n",
    "}\n",
    "\n",
    "Now it's your turn.\n",
    "\n",
    "Jupyter notebooks are made of cells. The cell in which this text is written is called a markdown cell. Markdown cells can be used to describe and document your code.\n",
    "\n",
    "The cell below is a called a code cell. Code cells can be used to run code. The cell below contains the python code for Hello, World!\n",
    "\n",
    "To run the cell below press the Down arrow key or click the button in the toolbar above to select it. A blue border around the cell will indicate it is now in focus. Then press Shift-Enter or click the button in the toolbar above to run it. If you do it correctly the code will print the famous words:\n"
   ]
  },
  {
   "cell_type": "code",
   "execution_count": 2,
   "metadata": {},
   "outputs": [
    {
     "name": "stdout",
     "output_type": "stream",
     "text": [
      "hello, world\n"
     ]
    }
   ],
   "source": [
    "print('hello, world')"
   ]
  }
 ],
 "metadata": {
  "kernelspec": {
   "display_name": "Python 3",
   "language": "python",
   "name": "python3"
  },
  "language_info": {
   "codemirror_mode": {
    "name": "ipython",
    "version": 3
   },
   "file_extension": ".py",
   "mimetype": "text/x-python",
   "name": "python",
   "nbconvert_exporter": "python",
   "pygments_lexer": "ipython3",
   "version": "3.10.4"
  },
  "orig_nbformat": 4,
  "vscode": {
   "interpreter": {
    "hash": "3ad933181bd8a04b432d3370b9dc3b0662ad032c4dfaa4e4f1596c548f763858"
   }
  }
 },
 "nbformat": 4,
 "nbformat_minor": 2
}
